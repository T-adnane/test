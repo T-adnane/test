{
  "cells": [
    {
      "cell_type": "markdown",
      "metadata": {
        "id": "view-in-github",
        "colab_type": "text"
      },
      "source": [
        "<a href=\"https://colab.research.google.com/github/T-adnane/test/blob/master/Sign_language_Data_Preprocessing.ipynb\" target=\"_parent\"><img src=\"https://colab.research.google.com/assets/colab-badge.svg\" alt=\"Open In Colab\"/></a>"
      ]
    },
    {
      "cell_type": "code",
      "execution_count": 2,
      "metadata": {
        "id": "X8SW2LSgFvJd",
        "colab": {
          "base_uri": "https://localhost:8080/"
        },
        "outputId": "463230be-5f67-469d-c88e-32af2808e846"
      },
      "outputs": [
        {
          "output_type": "stream",
          "name": "stdout",
          "text": [
            "Looking in indexes: https://pypi.org/simple, https://us-python.pkg.dev/colab-wheels/public/simple/\n",
            "Requirement already satisfied: mediapipe in /usr/local/lib/python3.9/dist-packages (0.10.0)\n",
            "Requirement already satisfied: numpy in /usr/local/lib/python3.9/dist-packages (from mediapipe) (1.22.4)\n",
            "Requirement already satisfied: sounddevice>=0.4.4 in /usr/local/lib/python3.9/dist-packages (from mediapipe) (0.4.6)\n",
            "Requirement already satisfied: protobuf<4,>=3.11 in /usr/local/lib/python3.9/dist-packages (from mediapipe) (3.20.3)\n",
            "Requirement already satisfied: opencv-contrib-python in /usr/local/lib/python3.9/dist-packages (from mediapipe) (4.7.0.72)\n",
            "Requirement already satisfied: flatbuffers>=2.0 in /usr/local/lib/python3.9/dist-packages (from mediapipe) (23.3.3)\n",
            "Requirement already satisfied: attrs>=19.1.0 in /usr/local/lib/python3.9/dist-packages (from mediapipe) (23.1.0)\n",
            "Requirement already satisfied: matplotlib in /usr/local/lib/python3.9/dist-packages (from mediapipe) (3.7.1)\n",
            "Requirement already satisfied: absl-py in /usr/local/lib/python3.9/dist-packages (from mediapipe) (1.4.0)\n",
            "Requirement already satisfied: CFFI>=1.0 in /usr/local/lib/python3.9/dist-packages (from sounddevice>=0.4.4->mediapipe) (1.15.1)\n",
            "Requirement already satisfied: importlib-resources>=3.2.0 in /usr/local/lib/python3.9/dist-packages (from matplotlib->mediapipe) (5.12.0)\n",
            "Requirement already satisfied: kiwisolver>=1.0.1 in /usr/local/lib/python3.9/dist-packages (from matplotlib->mediapipe) (1.4.4)\n",
            "Requirement already satisfied: packaging>=20.0 in /usr/local/lib/python3.9/dist-packages (from matplotlib->mediapipe) (23.1)\n",
            "Requirement already satisfied: contourpy>=1.0.1 in /usr/local/lib/python3.9/dist-packages (from matplotlib->mediapipe) (1.0.7)\n",
            "Requirement already satisfied: pillow>=6.2.0 in /usr/local/lib/python3.9/dist-packages (from matplotlib->mediapipe) (8.4.0)\n",
            "Requirement already satisfied: fonttools>=4.22.0 in /usr/local/lib/python3.9/dist-packages (from matplotlib->mediapipe) (4.39.3)\n",
            "Requirement already satisfied: cycler>=0.10 in /usr/local/lib/python3.9/dist-packages (from matplotlib->mediapipe) (0.11.0)\n",
            "Requirement already satisfied: python-dateutil>=2.7 in /usr/local/lib/python3.9/dist-packages (from matplotlib->mediapipe) (2.8.2)\n",
            "Requirement already satisfied: pyparsing>=2.3.1 in /usr/local/lib/python3.9/dist-packages (from matplotlib->mediapipe) (3.0.9)\n",
            "Requirement already satisfied: pycparser in /usr/local/lib/python3.9/dist-packages (from CFFI>=1.0->sounddevice>=0.4.4->mediapipe) (2.21)\n",
            "Requirement already satisfied: zipp>=3.1.0 in /usr/local/lib/python3.9/dist-packages (from importlib-resources>=3.2.0->matplotlib->mediapipe) (3.15.0)\n",
            "Requirement already satisfied: six>=1.5 in /usr/local/lib/python3.9/dist-packages (from python-dateutil>=2.7->matplotlib->mediapipe) (1.16.0)\n"
          ]
        }
      ],
      "source": [
        "!pip install mediapipe"
      ]
    },
    {
      "cell_type": "code",
      "execution_count": null,
      "metadata": {
        "id": "ZSeFSIn3sTW2"
      },
      "outputs": [],
      "source": [
        "def mediapipe_detection(image, model):\n",
        "    image = cv2.cvtColor(image, cv2.COLOR_BGR2RGB) # COLOR CONVERSION BGR 2 RGB\n",
        "    image.flags.writeable = False                  # Image is no longer writeable\n",
        "    results = model.process(image)                 # Make prediction\n",
        "    image.flags.writeable = True                   # Image is now writeable \n",
        "    image = cv2.cvtColor(image, cv2.COLOR_RGB2BGR) # COLOR COVERSION RGB 2 BGR\n",
        "    return image, results"
      ]
    },
    {
      "cell_type": "code",
      "execution_count": null,
      "metadata": {
        "id": "DOgyFCjDsTL2"
      },
      "outputs": [],
      "source": [
        "def mediapipe_landmarks(image, results):\n",
        "        # Hands landmarks\n",
        "        mp_drawing.draw_landmarks(image, results.right_hand_landmarks, mp_holistic.HAND_CONNECTIONS,\n",
        "                                 mp_drawing.DrawingSpec(color=(80,22,10), thickness=2, circle_radius=2),\n",
        "                                 mp_drawing.DrawingSpec(color=(80,44,121), thickness=2, circle_radius=2))\n",
        "        mp_drawing.draw_landmarks(image, results.left_hand_landmarks, mp_holistic.HAND_CONNECTIONS,\n",
        "                                 mp_drawing.DrawingSpec(color=(121,22,76), thickness=2, circle_radius=2),\n",
        "                                 mp_drawing.DrawingSpec(color=(121,44,250), thickness=2, circle_radius=2))\n",
        "        # Pose landmarks\n",
        "        mp_drawing.draw_landmarks(image, results.pose_landmarks, mp_holistic.POSE_CONNECTIONS,\n",
        "                                 mp_drawing.DrawingSpec(color=(245,117,66), thickness=1, circle_radius=1),\n",
        "                                 mp_drawing.DrawingSpec(color=(245,66,230), thickness=1, circle_radius=1))"
      ]
    },
    {
      "cell_type": "code",
      "execution_count": null,
      "metadata": {
        "id": "EsuJNIu5sTAL"
      },
      "outputs": [],
      "source": [
        "#Extraire les Valeurs de Mediapipe sous forme de vecteurs\n",
        "def extract_Values(results):\n",
        "    # On a 33 landmark dans le pose est chaque landmark est dans l'espace alors 3paramétre et ona aussi la visibilité alors 4 paramétres alors en fin on a 33*4 paramétre\n",
        "    pose = np.array([[res.x, res.y, res.z, res.visibility] for res in results.pose_landmarks.landmark]).flatten() if results.pose_landmarks else np.zeros(33*4)\n",
        "    # On a 21 land mark on chaque main et chaque landmark est représenté en espace alors ona 21*3 valeurs\n",
        "    lh = np.array([[res.x, res.y, res.z] for res in results.left_hand_landmarks.landmark]).flatten() if results.left_hand_landmarks else np.zeros(21*3)\n",
        "    rh = np.array([[res.x, res.y, res.z] for res in results.right_hand_landmarks.landmark]).flatten() if results.right_hand_landmarks else np.zeros(21*3)\n",
        "    # retourner les 3 listes concaténées\n",
        "    return np.concatenate([pose, lh, rh])"
      ]
    },
    {
      "cell_type": "code",
      "source": [
        "def count_frames(video_path):\n",
        "    # Ouvrir la vidéo en utilisant OpenCV\n",
        "    video = cv2.VideoCapture(video_path)\n",
        "    \n",
        "    # Vérifier si la vidéo est ouverte avec succès\n",
        "    if not video.isOpened():\n",
        "        print(\"Impossible d'ouvrir la vidéo :\", video_path)\n",
        "        return\n",
        "    \n",
        "    # Obtenir le nombre total de frames dans la vidéo\n",
        "    total_frames = int(video.get(cv2.CAP_PROP_FRAME_COUNT))\n",
        "    \n",
        "    # Fermer la vidéo\n",
        "    video.release()\n",
        "    \n",
        "    return total_frames"
      ],
      "metadata": {
        "id": "pfDHDSub5AYX"
      },
      "execution_count": null,
      "outputs": []
    },
    {
      "cell_type": "code",
      "source": [
        "import cv2\n",
        "import mediapipe as mp\n",
        "import os\n",
        "import numpy as np"
      ],
      "metadata": {
        "id": "mpMcf38bKxM4"
      },
      "execution_count": 4,
      "outputs": []
    },
    {
      "cell_type": "code",
      "source": [
        "\n",
        "mp_holistic = mp.solutions.holistic\n",
        "mp_drawing = mp.solutions.drawing_utils\n",
        "with mp_holistic.Holistic(min_detection_confidence=0.5, min_tracking_confidence=0.5) as holistic:\n",
        "  # Specify the path to the directory containing the videos\n",
        "  directory_path = r\"/content/drive/MyDrive/Adnane_Mois_Keypoints/janvier\"\n",
        "  save_dir = r\"/content/drive/MyDrive/Adnane_Mois_Keypoints/janvier_keypoints\"\n",
        "  for alpha in range(50,150,2):\n",
        "    # Loop through all video files in the directory\n",
        "    for filename in os.listdir(directory_path):\n",
        "      if filename.endswith(\".mp4\"):\n",
        "        # Read video\n",
        "        video_path = os.path.join(directory_path, filename)\n",
        "        num_frames = count_frames(video_path)\n",
        "        cap = cv2.VideoCapture(video_path)\n",
        "        keypoints_list = []\n",
        "        nbr,k = 0,0\n",
        "        save_frames = int(num_frames/30)\n",
        "        while nbr <= 30:\n",
        "          # Read next frame\n",
        "          ret, frame = cap.read()\n",
        "          # Check if end of video\n",
        "          if not ret:\n",
        "            keypoints_list.append([0] * 258)\n",
        "            nbr+=1\n",
        "          else:\n",
        "            height, width = frame.shape[:2]\n",
        "            width1 = int(width * alpha / 100)\n",
        "            height1 = int(height * alpha / 100)\n",
        "            dim = (width1, height1)\n",
        "            # redimentioner le frame\n",
        "            frame = cv2.resize(frame, dim, interpolation=cv2.INTER_AREA)\n",
        "            # Make detections\n",
        "            image, results = mediapipe_detection(frame, holistic)\n",
        "            if k % save_frames == 0:\n",
        "              # Extract keypoints\n",
        "              keypoints = extract_Values(results)\n",
        "              keypoints_list.append(keypoints)\n",
        "              nbr += 1\n",
        "            k += 1\n",
        "        # Save keypoints to a file\n",
        "        npy_path = os.path.join(save_dir, filename.split(\".\")[0] + str(alpha-50) + \".npy\")\n",
        "        np.save(npy_path, keypoints_list)"
      ],
      "metadata": {
        "id": "gFc_t_bNwNUA"
      },
      "execution_count": 16,
      "outputs": []
    },
    {
      "cell_type": "markdown",
      "source": [
        "## **Modèle**"
      ],
      "metadata": {
        "id": "maq50dEYG8UC"
      }
    },
    {
      "cell_type": "code",
      "source": [
        "from sklearn.model_selection import train_test_split\n",
        "from tensorflow.keras.utils import to_categorical"
      ],
      "metadata": {
        "id": "1DMcz_tFybcG"
      },
      "execution_count": 1,
      "outputs": []
    },
    {
      "cell_type": "code",
      "source": [
        "DATA_PATH = '/content/drive/MyDrive/Adnane_Mois_Keypoints/KeyPoints'\n",
        "signs = np.array(['janvier', 'fevrier'])\n",
        "no_sequences = 250\n",
        "label_map = {label:num for num, label in enumerate(signs)}"
      ],
      "metadata": {
        "id": "b6zU5-QMGs8z"
      },
      "execution_count": 5,
      "outputs": []
    },
    {
      "cell_type": "code",
      "source": [
        "label_map"
      ],
      "metadata": {
        "colab": {
          "base_uri": "https://localhost:8080/"
        },
        "id": "Y301Gw_aGs4q",
        "outputId": "8ed875d4-c60f-4062-b18a-88600d6c1b0b"
      },
      "execution_count": 6,
      "outputs": [
        {
          "output_type": "execute_result",
          "data": {
            "text/plain": [
              "{'janvier': 0, 'fevrier': 1}"
            ]
          },
          "metadata": {},
          "execution_count": 6
        }
      ]
    },
    {
      "cell_type": "code",
      "source": [
        "sequences, labels = [], []\n",
        "for sign in signs:\n",
        "    for filename in os.listdir(os.path.join(DATA_PATH, sign)):\n",
        "        res = np.load(os.path.join(DATA_PATH, sign,filename))\n",
        "        sequences.append(res)\n",
        "        labels.append(label_map[sign])"
      ],
      "metadata": {
        "id": "Xku0Og3QGs0G"
      },
      "execution_count": 7,
      "outputs": []
    },
    {
      "cell_type": "code",
      "source": [
        "res.shape"
      ],
      "metadata": {
        "colab": {
          "base_uri": "https://localhost:8080/"
        },
        "id": "giu2rq-bGsv3",
        "outputId": "f0cc7c9c-5dcb-425c-edc8-ed764266b288"
      },
      "execution_count": 8,
      "outputs": [
        {
          "output_type": "execute_result",
          "data": {
            "text/plain": [
              "(31, 258)"
            ]
          },
          "metadata": {},
          "execution_count": 8
        }
      ]
    },
    {
      "cell_type": "code",
      "source": [
        "X = np.array(sequences)"
      ],
      "metadata": {
        "id": "2xcOLamjGsru"
      },
      "execution_count": 9,
      "outputs": []
    },
    {
      "cell_type": "code",
      "source": [
        "y = to_categorical(labels).astype(int)"
      ],
      "metadata": {
        "id": "vo9hovafGsne"
      },
      "execution_count": 10,
      "outputs": []
    },
    {
      "cell_type": "code",
      "source": [
        "y.shape"
      ],
      "metadata": {
        "id": "DyuHXzWNybXy",
        "colab": {
          "base_uri": "https://localhost:8080/"
        },
        "outputId": "f5831506-f1fd-4db8-dda6-19012450e5e6"
      },
      "execution_count": 11,
      "outputs": [
        {
          "output_type": "execute_result",
          "data": {
            "text/plain": [
              "(500, 2)"
            ]
          },
          "metadata": {},
          "execution_count": 11
        }
      ]
    },
    {
      "cell_type": "code",
      "source": [
        "X_train, X_test, y_train, y_test = train_test_split(X, y, test_size=0.3)"
      ],
      "metadata": {
        "id": "GfNs-NMMIdIL"
      },
      "execution_count": 12,
      "outputs": []
    },
    {
      "cell_type": "code",
      "source": [
        "X_train.shape"
      ],
      "metadata": {
        "colab": {
          "base_uri": "https://localhost:8080/"
        },
        "id": "niO0ppbuIdEz",
        "outputId": "2100ab9c-23bd-49e4-dcca-a63b6f99f4e8"
      },
      "execution_count": 13,
      "outputs": [
        {
          "output_type": "execute_result",
          "data": {
            "text/plain": [
              "(350, 31, 258)"
            ]
          },
          "metadata": {},
          "execution_count": 13
        }
      ]
    },
    {
      "cell_type": "code",
      "source": [
        "from tensorflow.keras.models import Sequential\n",
        "from tensorflow.keras.layers import LSTM, Dense\n",
        "from tensorflow.keras.callbacks import TensorBoard"
      ],
      "metadata": {
        "id": "tGEJAK1ZIdA0"
      },
      "execution_count": 14,
      "outputs": []
    },
    {
      "cell_type": "code",
      "source": [
        "log_dir = os.path.join('Logs')\n",
        "tb_callback = TensorBoard(log_dir=log_dir)"
      ],
      "metadata": {
        "id": "abKCgLv-Ic9L"
      },
      "execution_count": 15,
      "outputs": []
    },
    {
      "cell_type": "code",
      "source": [
        "model = Sequential()\n",
        "model.add(LSTM(64, return_sequences=True, activation='relu', input_shape=(31,258)))\n",
        "model.add(LSTM(128, return_sequences=True, activation='relu'))\n",
        "model.add(LSTM(64, return_sequences=False, activation='relu'))\n",
        "model.add(Dense(64, activation='relu'))\n",
        "model.add(Dense(32, activation='relu'))\n",
        "model.add(Dense(signs.shape[0], activation='softmax'))"
      ],
      "metadata": {
        "id": "8Lr2qdSbIc5s"
      },
      "execution_count": 16,
      "outputs": []
    },
    {
      "cell_type": "code",
      "source": [
        "model.compile(optimizer='Adam', loss='categorical_crossentropy', metrics=['categorical_accuracy'])"
      ],
      "metadata": {
        "id": "XapLzDeoIt5C"
      },
      "execution_count": 17,
      "outputs": []
    },
    {
      "cell_type": "code",
      "source": [
        "model.fit(X_train, y_train, epochs=100, callbacks=[tb_callback])"
      ],
      "metadata": {
        "colab": {
          "base_uri": "https://localhost:8080/"
        },
        "id": "gLmNmWpqItdy",
        "outputId": "fe2ec38d-d434-4663-9e44-bcf3ecbc2240"
      },
      "execution_count": 18,
      "outputs": [
        {
          "output_type": "stream",
          "name": "stdout",
          "text": [
            "Epoch 1/100\n",
            "11/11 [==============================] - 5s 74ms/step - loss: 0.7468 - categorical_accuracy: 0.5514\n",
            "Epoch 2/100\n",
            "11/11 [==============================] - 1s 70ms/step - loss: 0.6620 - categorical_accuracy: 0.6314\n",
            "Epoch 3/100\n",
            "11/11 [==============================] - 1s 67ms/step - loss: 0.6092 - categorical_accuracy: 0.5943\n",
            "Epoch 4/100\n",
            "11/11 [==============================] - 1s 67ms/step - loss: 0.5387 - categorical_accuracy: 0.6057\n",
            "Epoch 5/100\n",
            "11/11 [==============================] - 1s 69ms/step - loss: 1.1947 - categorical_accuracy: 0.6486\n",
            "Epoch 6/100\n",
            "11/11 [==============================] - 1s 109ms/step - loss: 0.6249 - categorical_accuracy: 0.6657\n",
            "Epoch 7/100\n",
            "11/11 [==============================] - 1s 111ms/step - loss: 0.6858 - categorical_accuracy: 0.6771\n",
            "Epoch 8/100\n",
            "11/11 [==============================] - 1s 114ms/step - loss: 0.4580 - categorical_accuracy: 0.7743\n",
            "Epoch 9/100\n",
            "11/11 [==============================] - 1s 70ms/step - loss: 0.3547 - categorical_accuracy: 0.8486\n",
            "Epoch 10/100\n",
            "11/11 [==============================] - 1s 79ms/step - loss: 0.4832 - categorical_accuracy: 0.7143\n",
            "Epoch 11/100\n",
            "11/11 [==============================] - 1s 77ms/step - loss: 0.3201 - categorical_accuracy: 0.8857\n",
            "Epoch 12/100\n",
            "11/11 [==============================] - 1s 71ms/step - loss: 0.2756 - categorical_accuracy: 0.8914\n",
            "Epoch 13/100\n",
            "11/11 [==============================] - 1s 68ms/step - loss: 0.2375 - categorical_accuracy: 0.8943\n",
            "Epoch 14/100\n",
            "11/11 [==============================] - 1s 68ms/step - loss: 1.3509 - categorical_accuracy: 0.5714\n",
            "Epoch 15/100\n",
            "11/11 [==============================] - 1s 69ms/step - loss: 0.7003 - categorical_accuracy: 0.4971\n",
            "Epoch 16/100\n",
            "11/11 [==============================] - 1s 69ms/step - loss: 0.6841 - categorical_accuracy: 0.4971\n",
            "Epoch 17/100\n",
            "11/11 [==============================] - 1s 69ms/step - loss: 0.6659 - categorical_accuracy: 0.5000\n",
            "Epoch 18/100\n",
            "11/11 [==============================] - 1s 67ms/step - loss: 0.5762 - categorical_accuracy: 0.7229\n",
            "Epoch 19/100\n",
            "11/11 [==============================] - 1s 70ms/step - loss: 0.4998 - categorical_accuracy: 0.8000\n",
            "Epoch 20/100\n",
            "11/11 [==============================] - 1s 70ms/step - loss: 0.4031 - categorical_accuracy: 0.8086\n",
            "Epoch 21/100\n",
            "11/11 [==============================] - 1s 83ms/step - loss: 0.2870 - categorical_accuracy: 0.8514\n",
            "Epoch 22/100\n",
            "11/11 [==============================] - 1s 116ms/step - loss: 1.4709 - categorical_accuracy: 0.7086\n",
            "Epoch 23/100\n",
            "11/11 [==============================] - 1s 116ms/step - loss: 0.5871 - categorical_accuracy: 0.6971\n",
            "Epoch 24/100\n",
            "11/11 [==============================] - 1s 86ms/step - loss: 0.5265 - categorical_accuracy: 0.7400\n",
            "Epoch 25/100\n",
            "11/11 [==============================] - 1s 69ms/step - loss: 0.4608 - categorical_accuracy: 0.7943\n",
            "Epoch 26/100\n",
            "11/11 [==============================] - 1s 68ms/step - loss: 0.4364 - categorical_accuracy: 0.8171\n",
            "Epoch 27/100\n",
            "11/11 [==============================] - 1s 70ms/step - loss: 0.3110 - categorical_accuracy: 0.9029\n",
            "Epoch 28/100\n",
            "11/11 [==============================] - 1s 70ms/step - loss: 0.1614 - categorical_accuracy: 0.9600\n",
            "Epoch 29/100\n",
            "11/11 [==============================] - 1s 71ms/step - loss: 0.8346 - categorical_accuracy: 0.9371\n",
            "Epoch 30/100\n",
            "11/11 [==============================] - 1s 70ms/step - loss: 79.8146 - categorical_accuracy: 0.6657\n",
            "Epoch 31/100\n",
            "11/11 [==============================] - 1s 67ms/step - loss: 57.3496 - categorical_accuracy: 0.5114\n",
            "Epoch 32/100\n",
            "11/11 [==============================] - 1s 71ms/step - loss: 1.2076 - categorical_accuracy: 0.5629\n",
            "Epoch 33/100\n",
            "11/11 [==============================] - 1s 69ms/step - loss: 0.4795 - categorical_accuracy: 0.7714\n",
            "Epoch 34/100\n",
            "11/11 [==============================] - 1s 68ms/step - loss: 0.4554 - categorical_accuracy: 0.7943\n",
            "Epoch 35/100\n",
            "11/11 [==============================] - 1s 70ms/step - loss: 0.6041 - categorical_accuracy: 0.7371\n",
            "Epoch 36/100\n",
            "11/11 [==============================] - 1s 71ms/step - loss: 0.3570 - categorical_accuracy: 0.8971\n",
            "Epoch 37/100\n",
            "11/11 [==============================] - 1s 101ms/step - loss: 0.1279 - categorical_accuracy: 0.9486\n",
            "Epoch 38/100\n",
            "11/11 [==============================] - 1s 117ms/step - loss: 0.1214 - categorical_accuracy: 0.9457\n",
            "Epoch 39/100\n",
            "11/11 [==============================] - 1s 114ms/step - loss: 0.0202 - categorical_accuracy: 1.0000\n",
            "Epoch 40/100\n",
            "11/11 [==============================] - 1s 70ms/step - loss: 0.0058 - categorical_accuracy: 1.0000\n",
            "Epoch 41/100\n",
            "11/11 [==============================] - 1s 70ms/step - loss: 0.0053 - categorical_accuracy: 0.9971\n",
            "Epoch 42/100\n",
            "11/11 [==============================] - 1s 71ms/step - loss: 0.0032 - categorical_accuracy: 1.0000\n",
            "Epoch 43/100\n",
            "11/11 [==============================] - 1s 71ms/step - loss: 0.0021 - categorical_accuracy: 1.0000\n",
            "Epoch 44/100\n",
            "11/11 [==============================] - 1s 74ms/step - loss: 0.0011 - categorical_accuracy: 1.0000\n",
            "Epoch 45/100\n",
            "11/11 [==============================] - 1s 69ms/step - loss: 7.6526e-04 - categorical_accuracy: 1.0000\n",
            "Epoch 46/100\n",
            "11/11 [==============================] - 1s 69ms/step - loss: 6.0675e-04 - categorical_accuracy: 1.0000\n",
            "Epoch 47/100\n",
            "11/11 [==============================] - 1s 69ms/step - loss: 5.2527e-04 - categorical_accuracy: 1.0000\n",
            "Epoch 48/100\n",
            "11/11 [==============================] - 1s 69ms/step - loss: 4.6661e-04 - categorical_accuracy: 1.0000\n",
            "Epoch 49/100\n",
            "11/11 [==============================] - 1s 71ms/step - loss: 4.2029e-04 - categorical_accuracy: 1.0000\n",
            "Epoch 50/100\n",
            "11/11 [==============================] - 1s 70ms/step - loss: 3.8285e-04 - categorical_accuracy: 1.0000\n",
            "Epoch 51/100\n",
            "11/11 [==============================] - 1s 73ms/step - loss: 3.4731e-04 - categorical_accuracy: 1.0000\n",
            "Epoch 52/100\n",
            "11/11 [==============================] - 1s 70ms/step - loss: 3.2143e-04 - categorical_accuracy: 1.0000\n",
            "Epoch 53/100\n",
            "11/11 [==============================] - 1s 118ms/step - loss: 2.9633e-04 - categorical_accuracy: 1.0000\n",
            "Epoch 54/100\n",
            "11/11 [==============================] - 1s 116ms/step - loss: 2.7705e-04 - categorical_accuracy: 1.0000\n",
            "Epoch 55/100\n",
            "11/11 [==============================] - 1s 102ms/step - loss: 2.5487e-04 - categorical_accuracy: 1.0000\n",
            "Epoch 56/100\n",
            "11/11 [==============================] - 1s 69ms/step - loss: 2.3816e-04 - categorical_accuracy: 1.0000\n",
            "Epoch 57/100\n",
            "11/11 [==============================] - 1s 72ms/step - loss: 2.2390e-04 - categorical_accuracy: 1.0000\n",
            "Epoch 58/100\n",
            "11/11 [==============================] - 1s 68ms/step - loss: 2.1004e-04 - categorical_accuracy: 1.0000\n",
            "Epoch 59/100\n",
            "11/11 [==============================] - 1s 72ms/step - loss: 1.9784e-04 - categorical_accuracy: 1.0000\n",
            "Epoch 60/100\n",
            "11/11 [==============================] - 1s 69ms/step - loss: 1.8455e-04 - categorical_accuracy: 1.0000\n",
            "Epoch 61/100\n",
            "11/11 [==============================] - 1s 70ms/step - loss: 1.7510e-04 - categorical_accuracy: 1.0000\n",
            "Epoch 62/100\n",
            "11/11 [==============================] - 1s 68ms/step - loss: 1.6526e-04 - categorical_accuracy: 1.0000\n",
            "Epoch 63/100\n",
            "11/11 [==============================] - 1s 72ms/step - loss: 1.5779e-04 - categorical_accuracy: 1.0000\n",
            "Epoch 64/100\n",
            "11/11 [==============================] - 1s 70ms/step - loss: 1.4933e-04 - categorical_accuracy: 1.0000\n",
            "Epoch 65/100\n",
            "11/11 [==============================] - 1s 69ms/step - loss: 1.4085e-04 - categorical_accuracy: 1.0000\n",
            "Epoch 66/100\n",
            "11/11 [==============================] - 1s 68ms/step - loss: 1.3408e-04 - categorical_accuracy: 1.0000\n",
            "Epoch 67/100\n",
            "11/11 [==============================] - 1s 69ms/step - loss: 1.2755e-04 - categorical_accuracy: 1.0000\n",
            "Epoch 68/100\n",
            "11/11 [==============================] - 1s 88ms/step - loss: 1.2153e-04 - categorical_accuracy: 1.0000\n",
            "Epoch 69/100\n",
            "11/11 [==============================] - 1s 115ms/step - loss: 1.1590e-04 - categorical_accuracy: 1.0000\n",
            "Epoch 70/100\n",
            "11/11 [==============================] - 1s 113ms/step - loss: 1.1112e-04 - categorical_accuracy: 1.0000\n",
            "Epoch 71/100\n",
            "11/11 [==============================] - 1s 84ms/step - loss: 1.0635e-04 - categorical_accuracy: 1.0000\n",
            "Epoch 72/100\n",
            "11/11 [==============================] - 1s 72ms/step - loss: 1.0138e-04 - categorical_accuracy: 1.0000\n",
            "Epoch 73/100\n",
            "11/11 [==============================] - 1s 72ms/step - loss: 9.7388e-05 - categorical_accuracy: 1.0000\n",
            "Epoch 74/100\n",
            "11/11 [==============================] - 1s 70ms/step - loss: 9.2889e-05 - categorical_accuracy: 1.0000\n",
            "Epoch 75/100\n",
            "11/11 [==============================] - 1s 67ms/step - loss: 8.9277e-05 - categorical_accuracy: 1.0000\n",
            "Epoch 76/100\n",
            "11/11 [==============================] - 1s 69ms/step - loss: 8.5519e-05 - categorical_accuracy: 1.0000\n",
            "Epoch 77/100\n",
            "11/11 [==============================] - 1s 69ms/step - loss: 8.2413e-05 - categorical_accuracy: 1.0000\n",
            "Epoch 78/100\n",
            "11/11 [==============================] - 1s 67ms/step - loss: 7.9121e-05 - categorical_accuracy: 1.0000\n",
            "Epoch 79/100\n",
            "11/11 [==============================] - 1s 69ms/step - loss: 7.6051e-05 - categorical_accuracy: 1.0000\n",
            "Epoch 80/100\n",
            "11/11 [==============================] - 1s 71ms/step - loss: 7.3614e-05 - categorical_accuracy: 1.0000\n",
            "Epoch 81/100\n",
            "11/11 [==============================] - 1s 70ms/step - loss: 7.0960e-05 - categorical_accuracy: 1.0000\n",
            "Epoch 82/100\n",
            "11/11 [==============================] - 1s 68ms/step - loss: 6.8305e-05 - categorical_accuracy: 1.0000\n",
            "Epoch 83/100\n",
            "11/11 [==============================] - 1s 67ms/step - loss: 6.5986e-05 - categorical_accuracy: 1.0000\n",
            "Epoch 84/100\n",
            "11/11 [==============================] - 1s 98ms/step - loss: 6.3371e-05 - categorical_accuracy: 1.0000\n",
            "Epoch 85/100\n",
            "11/11 [==============================] - 1s 113ms/step - loss: 6.1378e-05 - categorical_accuracy: 1.0000\n",
            "Epoch 86/100\n",
            "11/11 [==============================] - 1s 113ms/step - loss: 5.9360e-05 - categorical_accuracy: 1.0000\n",
            "Epoch 87/100\n",
            "11/11 [==============================] - 1s 77ms/step - loss: 5.7616e-05 - categorical_accuracy: 1.0000\n",
            "Epoch 88/100\n",
            "11/11 [==============================] - 1s 68ms/step - loss: 5.5623e-05 - categorical_accuracy: 1.0000\n",
            "Epoch 89/100\n",
            "11/11 [==============================] - 1s 68ms/step - loss: 5.4054e-05 - categorical_accuracy: 1.0000\n",
            "Epoch 90/100\n",
            "11/11 [==============================] - 1s 71ms/step - loss: 5.2490e-05 - categorical_accuracy: 1.0000\n",
            "Epoch 91/100\n",
            "11/11 [==============================] - 1s 69ms/step - loss: 5.0550e-05 - categorical_accuracy: 1.0000\n",
            "Epoch 92/100\n",
            "11/11 [==============================] - 1s 69ms/step - loss: 4.9001e-05 - categorical_accuracy: 1.0000\n",
            "Epoch 93/100\n",
            "11/11 [==============================] - 1s 70ms/step - loss: 4.7845e-05 - categorical_accuracy: 1.0000\n",
            "Epoch 94/100\n",
            "11/11 [==============================] - 1s 71ms/step - loss: 4.6535e-05 - categorical_accuracy: 1.0000\n",
            "Epoch 95/100\n",
            "11/11 [==============================] - 1s 67ms/step - loss: 4.5148e-05 - categorical_accuracy: 1.0000\n",
            "Epoch 96/100\n",
            "11/11 [==============================] - 1s 69ms/step - loss: 4.3666e-05 - categorical_accuracy: 1.0000\n",
            "Epoch 97/100\n",
            "11/11 [==============================] - 1s 71ms/step - loss: 4.2419e-05 - categorical_accuracy: 1.0000\n",
            "Epoch 98/100\n",
            "11/11 [==============================] - 1s 69ms/step - loss: 4.1310e-05 - categorical_accuracy: 1.0000\n",
            "Epoch 99/100\n",
            "11/11 [==============================] - 1s 69ms/step - loss: 4.0199e-05 - categorical_accuracy: 1.0000\n",
            "Epoch 100/100\n",
            "11/11 [==============================] - 1s 100ms/step - loss: 3.9110e-05 - categorical_accuracy: 1.0000\n"
          ]
        },
        {
          "output_type": "execute_result",
          "data": {
            "text/plain": [
              "<keras.callbacks.History at 0x7f76481e6160>"
            ]
          },
          "metadata": {},
          "execution_count": 18
        }
      ]
    },
    {
      "cell_type": "code",
      "source": [
        "model.save('janFev.h5')"
      ],
      "metadata": {
        "id": "DdX4rN0rItBT"
      },
      "execution_count": 19,
      "outputs": []
    },
    {
      "cell_type": "code",
      "source": [],
      "metadata": {
        "id": "YjT4JDgbIs8S"
      },
      "execution_count": null,
      "outputs": []
    },
    {
      "cell_type": "code",
      "source": [],
      "metadata": {
        "id": "zor3uzTRIs4D"
      },
      "execution_count": null,
      "outputs": []
    },
    {
      "cell_type": "code",
      "source": [],
      "metadata": {
        "id": "kqFYdMp4Isxy"
      },
      "execution_count": null,
      "outputs": []
    },
    {
      "cell_type": "code",
      "source": [],
      "metadata": {
        "id": "w7EgSwiIybUd"
      },
      "execution_count": null,
      "outputs": []
    },
    {
      "cell_type": "code",
      "source": [],
      "metadata": {
        "id": "OIifb_jrI6Ds"
      },
      "execution_count": null,
      "outputs": []
    },
    {
      "cell_type": "code",
      "source": [],
      "metadata": {
        "id": "jDn0yUi8I578"
      },
      "execution_count": null,
      "outputs": []
    },
    {
      "cell_type": "code",
      "execution_count": null,
      "metadata": {
        "id": "m-v-Uolv7w7s"
      },
      "outputs": [],
      "source": [
        "# import cv2\n",
        "# import mediapipe as mp\n",
        "# import os\n",
        "# import numpy as np\n",
        "# mp_holistic = mp.solutions.holistic\n",
        "# mp_drawing = mp.solutions.drawing_utils\n",
        "# with mp_holistic.Holistic(min_detection_confidence=0.5, min_tracking_confidence=0.5) as holistic:\n",
        "#     # Specify the path to the directory containing the videos\n",
        "#     directory_path = r\"/content/avril\"\n",
        "#     save_dir = r\"/content/avril06\"\n",
        "    \n",
        "#     for angle in range(50):\n",
        "#         scale_percent = 2*angle+50\n",
        "#         # Loop through all video files in the directory\n",
        "#         for filename in os.listdir(directory_path):\n",
        "#             if filename.endswith(\".mp4\"):\n",
        "#                 # Read video\n",
        "#                 video_path = os.path.join(directory_path, filename)\n",
        "#                 cap = cv2.VideoCapture(video_path)\n",
        "#                 keypoints_list = []\n",
        "#                 nbr = 0\n",
        "              \n",
        "#                 while nbr < 30:\n",
        "#                     # Read next frame\n",
        "#                     ret, frame = cap.read()\n",
        "#                     # Check if end of video\n",
        "#                     if not ret:\n",
        "#                       keypoints_list.append([0] * 258)\n",
        "#                       nbr+=1\n",
        "#                     else:\n",
        "#                       c = frame.shape[:2]\n",
        "#                       height, width = c\n",
        "#                       width1 = int(width * scale_percent / 100)\n",
        "#                       height1 = int(height * scale_percent / 100)\n",
        "#                       dim = (width1, height1)\n",
        "#                       # Calculate the rotation matrix\n",
        "#                       #rotation_matrix = cv2.getRotationMatrix2D((width/2, height/2), angle, 1)\n",
        "#                       # Rotate and redimensionner the frame\n",
        "#                       #frame = cv2.warpAffine(frame, rotation_matrix, (width, height))\n",
        "#                       frame = cv2.resize(frame, dim, interpolation=cv2.INTER_AREA)\n",
        "#                       # Make detections\n",
        "#                       image, results = mediapipe_detection(frame, holistic)\n",
        "\n",
        "#                       # Draw landmarks\n",
        "#                       #mediapipe_landmarks(image, results)\n",
        "\n",
        "#                       # Show to screen\n",
        "#                       #cv2.imshow('OpenCV Feed', image)\n",
        "\n",
        "#                       # Extract keypoints\n",
        "                      \n",
        "#                       keypoints = extract_Values(results)\n",
        "#                       keypoints_list.append(keypoints)\n",
        "\n",
        "#                       # Break gracefully\n",
        "#                       if cv2.waitKey(10) & 0xFF == ord('q'):\n",
        "#                           break\n",
        "#                       nbr += 1\n",
        "#                 # Save keypoints to a file\n",
        "#                 npy_path = os.path.join(save_dir, filename.split(\".\")[0] + str(angle) + \".npy\")\n",
        "#                 np.save(npy_path, keypoints_list)\n",
        "\n",
        "#                 cap.release()\n",
        "#                 cv2.destroyAllWindows()"
      ]
    },
    {
      "cell_type": "code",
      "execution_count": null,
      "metadata": {
        "id": "HtkvvzeIs363"
      },
      "outputs": [],
      "source": [
        "donnees = np.load(\"/content/fevrier_keyPoints/fevrier60.npy\")"
      ]
    },
    {
      "cell_type": "code",
      "execution_count": null,
      "metadata": {
        "colab": {
          "base_uri": "https://localhost:8080/"
        },
        "id": "DrV1rI6QHVr7",
        "outputId": "558c34b8-09c9-4d3f-ddfb-c5d6b45652b3"
      },
      "outputs": [
        {
          "data": {
            "text/plain": [
              "(60, 258)"
            ]
          },
          "execution_count": 14,
          "metadata": {},
          "output_type": "execute_result"
        }
      ],
      "source": [
        "donnees.shape"
      ]
    },
    {
      "cell_type": "code",
      "execution_count": null,
      "metadata": {
        "colab": {
          "base_uri": "https://localhost:8080/"
        },
        "id": "pWa88xgCHYRv",
        "outputId": "2b6c9042-c64b-4073-f51a-ade7e39f6783"
      },
      "outputs": [
        {
          "data": {
            "text/plain": [
              "(80, 258)"
            ]
          },
          "execution_count": 16,
          "metadata": {},
          "output_type": "execute_result"
        }
      ],
      "source": [
        "donnees.shape"
      ]
    },
    {
      "cell_type": "code",
      "execution_count": null,
      "metadata": {
        "colab": {
          "base_uri": "https://localhost:8080/"
        },
        "id": "ii8hUmL4HvC8",
        "outputId": "a6c11fe7-b7b1-4827-d4d1-9ff8d4c824f3"
      },
      "outputs": [
        {
          "data": {
            "text/plain": [
              "(95, 258)"
            ]
          },
          "execution_count": 18,
          "metadata": {},
          "output_type": "execute_result"
        }
      ],
      "source": [
        "donnees.shape"
      ]
    },
    {
      "cell_type": "code",
      "execution_count": null,
      "metadata": {
        "colab": {
          "base_uri": "https://localhost:8080/"
        },
        "id": "t1pkLpaZH0qL",
        "outputId": "4bc04ed0-8180-434d-86f0-7596f744213a"
      },
      "outputs": [
        {
          "data": {
            "text/plain": [
              "(60, 258)"
            ]
          },
          "execution_count": 20,
          "metadata": {},
          "output_type": "execute_result"
        }
      ],
      "source": [
        "donnees.shape"
      ]
    },
    {
      "cell_type": "code",
      "execution_count": null,
      "metadata": {
        "colab": {
          "base_uri": "https://localhost:8080/"
        },
        "id": "LIdAUyZqH1o5",
        "outputId": "48c0a6c5-67e9-426f-bb90-490eae9e4c5d"
      },
      "outputs": [
        {
          "data": {
            "text/plain": [
              "(44, 258)"
            ]
          },
          "execution_count": 22,
          "metadata": {},
          "output_type": "execute_result"
        }
      ],
      "source": [
        "donnees.shape"
      ]
    },
    {
      "cell_type": "code",
      "execution_count": null,
      "metadata": {
        "colab": {
          "base_uri": "https://localhost:8080/"
        },
        "id": "2_QZswvDH2PY",
        "outputId": "49415206-5baa-4968-cd3f-097945b88ae7"
      },
      "outputs": [
        {
          "data": {
            "text/plain": [
              "(73, 258)"
            ]
          },
          "execution_count": 24,
          "metadata": {},
          "output_type": "execute_result"
        }
      ],
      "source": [
        "donnees.shape"
      ]
    },
    {
      "cell_type": "code",
      "execution_count": null,
      "metadata": {
        "id": "Fxew7s-8QoB2",
        "colab": {
          "base_uri": "https://localhost:8080/"
        },
        "outputId": "da2526e5-6e77-4b02-cb67-a338d4968664"
      },
      "outputs": [
        {
          "output_type": "stream",
          "name": "stdout",
          "text": [
            "Le nombre de frames dans la vidéo est : 31\n"
          ]
        }
      ],
      "source": [
        "import cv2\n",
        "\n",
        "def count_frames(video_path):\n",
        "    # Ouvrir la vidéo en utilisant OpenCV\n",
        "    video = cv2.VideoCapture(video_path)\n",
        "    \n",
        "    # Vérifier si la vidéo est ouverte avec succès\n",
        "    if not video.isOpened():\n",
        "        print(\"Impossible d'ouvrir la vidéo :\", video_path)\n",
        "        return\n",
        "    \n",
        "    # Obtenir le nombre total de frames dans la vidéo\n",
        "    total_frames = int(video.get(cv2.CAP_PROP_FRAME_COUNT))\n",
        "    \n",
        "    # Fermer la vidéo\n",
        "    video.release()\n",
        "    \n",
        "    return total_frames\n",
        "\n",
        "# Chemin vers la vidéo\n",
        "video_path = \"/content/janv/janvier6.mp4\"\n",
        "\n",
        "# Appeler la fonction pour obtenir le nombre de frames\n",
        "num_frames = count_frames(video_path)\n",
        "\n",
        "# Afficher le résultat\n",
        "print(\"Le nombre de frames dans la vidéo est :\", num_frames)\n"
      ]
    },
    {
      "cell_type": "code",
      "source": [],
      "metadata": {
        "id": "C8a2EOwiuiXi"
      },
      "execution_count": null,
      "outputs": []
    }
  ],
  "metadata": {
    "colab": {
      "provenance": [],
      "mount_file_id": "1eQ48fBFk7lVMS3pnNJhtXSwlllDvAlNj",
      "authorship_tag": "ABX9TyOVlT2i8oqTfS22moXgi/v1",
      "include_colab_link": true
    },
    "gpuClass": "standard",
    "kernelspec": {
      "display_name": "Python 3",
      "name": "python3"
    },
    "language_info": {
      "name": "python"
    }
  },
  "nbformat": 4,
  "nbformat_minor": 0
}